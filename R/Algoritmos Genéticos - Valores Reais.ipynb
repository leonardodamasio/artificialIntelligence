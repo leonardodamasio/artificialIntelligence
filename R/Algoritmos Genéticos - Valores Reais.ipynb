{
 "cells": [
  {
   "cell_type": "markdown",
   "metadata": {},
   "source": [
    "### Valores Reais"
   ]
  },
  {
   "cell_type": "markdown",
   "metadata": {},
   "source": [
    "Encontrar x para 2 * x + 5 = 20"
   ]
  },
  {
   "cell_type": "code",
   "execution_count": 1,
   "metadata": {},
   "outputs": [],
   "source": [
    "f = function(x)\n",
    "{\n",
    "    resultado = 2 * x + 5\n",
    "    \n",
    "    if (resultado > 20)\n",
    "        return (20 - resultado)\n",
    "    else\n",
    "        return (resultado - 20)\n",
    "}"
   ]
  },
  {
   "cell_type": "code",
   "execution_count": 2,
   "metadata": {},
   "outputs": [
    {
     "data": {
      "text/html": [
       "<pre class=language-r><code>function (x) \n",
       "{\n",
       "<span style=white-space:pre-wrap>    resultado = 2 * x + 5</span>\n",
       "<span style=white-space:pre-wrap>    if (resultado &gt; 20) </span>\n",
       "<span style=white-space:pre-wrap>        return(20 - resultado)</span>\n",
       "<span style=white-space:pre-wrap>    else return(resultado - 20)</span>\n",
       "}</code></pre>"
      ],
      "text/latex": [
       "\\begin{minted}{r}\n",
       "function (x) \n",
       "\\{\n",
       "    resultado = 2 * x + 5\n",
       "    if (resultado > 20) \n",
       "        return(20 - resultado)\n",
       "    else return(resultado - 20)\n",
       "\\}\n",
       "\\end{minted}"
      ],
      "text/markdown": [
       "```r\n",
       "function (x) \n",
       "{\n",
       "    resultado = 2 * x + 5\n",
       "    if (resultado > 20) \n",
       "        return(20 - resultado)\n",
       "    else return(resultado - 20)\n",
       "}\n",
       "```"
      ],
      "text/plain": [
       "function(x)\n",
       "{\n",
       "    resultado = 2 * x + 5\n",
       "    \n",
       "    if (resultado > 20)\n",
       "        return (20 - resultado)\n",
       "    else\n",
       "        return (resultado - 20)\n",
       "}"
      ]
     },
     "metadata": {},
     "output_type": "display_data"
    }
   ],
   "source": [
    "f"
   ]
  },
  {
   "cell_type": "code",
   "execution_count": 3,
   "metadata": {},
   "outputs": [
    {
     "data": {
      "text/html": [
       "-15"
      ],
      "text/latex": [
       "-15"
      ],
      "text/markdown": [
       "-15"
      ],
      "text/plain": [
       "[1] -15"
      ]
     },
     "metadata": {},
     "output_type": "display_data"
    },
    {
     "data": {
      "text/html": [
       "-13"
      ],
      "text/latex": [
       "-13"
      ],
      "text/markdown": [
       "-13"
      ],
      "text/plain": [
       "[1] -13"
      ]
     },
     "metadata": {},
     "output_type": "display_data"
    },
    {
     "data": {
      "text/html": [
       "-11"
      ],
      "text/latex": [
       "-11"
      ],
      "text/markdown": [
       "-11"
      ],
      "text/plain": [
       "[1] -11"
      ]
     },
     "metadata": {},
     "output_type": "display_data"
    },
    {
     "data": {
      "text/html": [
       "-9"
      ],
      "text/latex": [
       "-9"
      ],
      "text/markdown": [
       "-9"
      ],
      "text/plain": [
       "[1] -9"
      ]
     },
     "metadata": {},
     "output_type": "display_data"
    },
    {
     "data": {
      "text/html": [
       "-7"
      ],
      "text/latex": [
       "-7"
      ],
      "text/markdown": [
       "-7"
      ],
      "text/plain": [
       "[1] -7"
      ]
     },
     "metadata": {},
     "output_type": "display_data"
    }
   ],
   "source": [
    "f(0)\n",
    "f(1)\n",
    "f(2)\n",
    "f(3)\n",
    "f(4)"
   ]
  },
  {
   "cell_type": "code",
   "execution_count": 4,
   "metadata": {},
   "outputs": [
    {
     "data": {
      "text/html": [
       "-5"
      ],
      "text/latex": [
       "-5"
      ],
      "text/markdown": [
       "-5"
      ],
      "text/plain": [
       "[1] -5"
      ]
     },
     "metadata": {},
     "output_type": "display_data"
    },
    {
     "data": {
      "text/html": [
       "-3"
      ],
      "text/latex": [
       "-3"
      ],
      "text/markdown": [
       "-3"
      ],
      "text/plain": [
       "[1] -3"
      ]
     },
     "metadata": {},
     "output_type": "display_data"
    },
    {
     "data": {
      "text/html": [
       "-1"
      ],
      "text/latex": [
       "-1"
      ],
      "text/markdown": [
       "-1"
      ],
      "text/plain": [
       "[1] -1"
      ]
     },
     "metadata": {},
     "output_type": "display_data"
    }
   ],
   "source": [
    "f(10)\n",
    "f(9)\n",
    "f(8)"
   ]
  },
  {
   "cell_type": "markdown",
   "metadata": {},
   "source": [
    "Como resolver isso?\n",
    "Algoritmo Genético!"
   ]
  },
  {
   "cell_type": "code",
   "execution_count": 5,
   "metadata": {},
   "outputs": [
    {
     "name": "stderr",
     "output_type": "stream",
     "text": [
      "Loading required package: foreach\n",
      "\n",
      "Loading required package: iterators\n",
      "\n",
      "Package 'GA' version 3.2\n",
      "Type 'citation(\"GA\")' for citing this R package in publications.\n",
      "\n",
      "\n",
      "Attaching package: 'GA'\n",
      "\n",
      "\n",
      "The following object is masked from 'package:utils':\n",
      "\n",
      "    de\n",
      "\n",
      "\n"
     ]
    }
   ],
   "source": [
    "# install.packages(\"GA\")\n",
    "library(GA)"
   ]
  },
  {
   "cell_type": "code",
   "execution_count": 6,
   "metadata": {},
   "outputs": [
    {
     "name": "stderr",
     "output_type": "stream",
     "text": [
      "Warning message in ga(\"real-value\", fitness = f, min = c(-20), max = c(20), popSize = 10, :\n",
      "\"'min' arg is deprecated. Use 'lower' instead.\"\n",
      "Warning message in ga(\"real-value\", fitness = f, min = c(-20), max = c(20), popSize = 10, :\n",
      "\"'max' arg is deprecated. Use 'upper' instead.\"\n"
     ]
    },
    {
     "name": "stdout",
     "output_type": "stream",
     "text": [
      "GA | iter = 1 | Mean = -17.824688 | Best =  -1.725725\n",
      "GA | iter = 2 | Mean = -11.004571 | Best =  -1.042388\n",
      "GA | iter = 3 | Mean = -6.875891 | Best = -1.042388\n",
      "GA | iter = 4 | Mean = -2.941492 | Best = -1.042388\n",
      "GA | iter = 5 | Mean = -1.368457 | Best = -1.042388\n",
      "GA | iter = 6 | Mean = -2.234874 | Best = -1.042388\n",
      "GA | iter = 7 | Mean = -5.708104 | Best = -1.042388\n",
      "GA | iter = 8 | Mean = -5.602957 | Best = -1.042388\n",
      "GA | iter = 9 | Mean = -1.042388 | Best = -1.042388\n",
      "GA | iter = 10 | Mean = -1.042388 | Best = -1.042388\n",
      "GA | iter = 11 | Mean = -4.5688231 | Best = -0.4126534\n",
      "GA | iter = 12 | Mean = -5.0500061 | Best = -0.4126534\n",
      "GA | iter = 13 | Mean = -8.38642691 | Best = -0.02067335\n",
      "GA | iter = 14 | Mean = -0.37648393 | Best = -0.02067335\n",
      "GA | iter = 15 | Mean = -5.5276977208 | Best = -0.0007554039\n",
      "GA | iter = 16 | Mean = -0.6668355731 | Best = -0.0007554039\n",
      "GA | iter = 17 | Mean = -1.8975934129 | Best = -0.0007554039\n",
      "GA | iter = 18 | Mean = -0.2553363735 | Best = -0.0007554039\n",
      "GA | iter = 19 | Mean = -0.1785720046 | Best = -0.0007554039\n",
      "GA | iter = 20 | Mean = -2.4885391580 | Best = -0.0007554039\n",
      "GA | iter = 21 | Mean = -1.8476781739 | Best = -0.0007554039\n",
      "GA | iter = 22 | Mean = -2.2818114303 | Best = -0.0007554039\n",
      "GA | iter = 23 | Mean = -0.0327742432 | Best = -0.0007554039\n",
      "GA | iter = 24 | Mean = -2.0408544022 | Best = -0.0007554039\n",
      "GA | iter = 25 | Mean = -2.3380582688 | Best = -0.0007554039\n",
      "GA | iter = 26 | Mean = -1.7476179943 | Best = -0.0007554039\n",
      "GA | iter = 27 | Mean = -5.6927109849 | Best = -0.0007554039\n",
      "GA | iter = 28 | Mean = -0.7241991586 | Best = -0.0007554039\n",
      "GA | iter = 29 | Mean = -0.5509878155 | Best = -0.0007554039\n",
      "GA | iter = 30 | Mean = -1.101720e+01 | Best = -2.469367e-04\n"
     ]
    }
   ],
   "source": [
    "resultado = ga(\"real-value\", # Valores Reais\n",
    "               fitness = f, # Função de Ajuste\n",
    "               min = c(-20), # Valor mínimo a ser utilizado nos teste\n",
    "               max = c(20), # Máximo\n",
    "               popSize = 10, # Número de cromossomos\n",
    "               maxiter = 30, # Máximo de gerações\n",
    "               monitor = T, # Acompanhar a evolução\n",
    "               names = c(\"a\") # Nome do item\n",
    "               )"
   ]
  },
  {
   "cell_type": "code",
   "execution_count": 7,
   "metadata": {},
   "outputs": [
    {
     "data": {
      "text/plain": [
       "An object of class \"ga\"\n",
       "\n",
       "Call:\n",
       "ga(type = \"real-value\", fitness = f, min = c(-20), max = c(20),     popSize = 10, maxiter = 30, names = c(\"a\"), monitor = T)\n",
       "\n",
       "Available slots:\n",
       " [1] \"call\"         \"type\"         \"lower\"        \"upper\"        \"nBits\"       \n",
       " [6] \"names\"        \"popSize\"      \"iter\"         \"run\"          \"maxiter\"     \n",
       "[11] \"suggestions\"  \"population\"   \"elitism\"      \"pcrossover\"   \"pmutation\"   \n",
       "[16] \"optim\"        \"fitness\"      \"summary\"      \"bestSol\"      \"fitnessValue\"\n",
       "[21] \"solution\"    "
      ]
     },
     "metadata": {},
     "output_type": "display_data"
    }
   ],
   "source": [
    "resultado"
   ]
  },
  {
   "cell_type": "code",
   "execution_count": 8,
   "metadata": {},
   "outputs": [
    {
     "data": {
      "text/plain": [
       "-- \u001b[1mGenetic Algorithm\u001b[22m ------------------- \n",
       "\n",
       "GA settings: \n",
       "Type                  =  real-valued \n",
       "Population size       =  10 \n",
       "Number of generations =  30 \n",
       "Elitism               =  1 \n",
       "Crossover probability =  0.8 \n",
       "Mutation probability  =  0.1 \n",
       "Search domain = \n",
       "        a\n",
       "lower -20\n",
       "upper  20\n",
       "\n",
       "GA results: \n",
       "Iterations             = 30 \n",
       "Fitness function value = -0.0002469367 \n",
       "Solution = \n",
       "            a\n",
       "[1,] 7.500123"
      ]
     },
     "metadata": {},
     "output_type": "display_data"
    }
   ],
   "source": [
    "summary(resultado)"
   ]
  },
  {
   "cell_type": "code",
   "execution_count": 9,
   "metadata": {},
   "outputs": [
    {
     "data": {
      "text/html": [
       "<table>\n",
       "<caption>A matrix: 1 × 1 of type dbl</caption>\n",
       "<thead>\n",
       "\t<tr><th scope=col>a</th></tr>\n",
       "</thead>\n",
       "<tbody>\n",
       "\t<tr><td>7.500123</td></tr>\n",
       "</tbody>\n",
       "</table>\n"
      ],
      "text/latex": [
       "A matrix: 1 × 1 of type dbl\n",
       "\\begin{tabular}{l}\n",
       " a\\\\\n",
       "\\hline\n",
       "\t 7.500123\\\\\n",
       "\\end{tabular}\n"
      ],
      "text/markdown": [
       "\n",
       "A matrix: 1 × 1 of type dbl\n",
       "\n",
       "| a |\n",
       "|---|\n",
       "| 7.500123 |\n",
       "\n"
      ],
      "text/plain": [
       "     a       \n",
       "[1,] 7.500123"
      ]
     },
     "metadata": {},
     "output_type": "display_data"
    }
   ],
   "source": [
    "a = summary(resultado)$solution\n",
    "a"
   ]
  },
  {
   "cell_type": "code",
   "execution_count": 10,
   "metadata": {},
   "outputs": [
    {
     "data": {
      "text/html": [
       "<table>\n",
       "<caption>A matrix: 1 × 1 of type dbl</caption>\n",
       "<thead>\n",
       "\t<tr><th scope=col>a</th></tr>\n",
       "</thead>\n",
       "<tbody>\n",
       "\t<tr><td>-0.0002469367</td></tr>\n",
       "</tbody>\n",
       "</table>\n"
      ],
      "text/latex": [
       "A matrix: 1 × 1 of type dbl\n",
       "\\begin{tabular}{l}\n",
       " a\\\\\n",
       "\\hline\n",
       "\t -0.0002469367\\\\\n",
       "\\end{tabular}\n"
      ],
      "text/markdown": [
       "\n",
       "A matrix: 1 × 1 of type dbl\n",
       "\n",
       "| a |\n",
       "|---|\n",
       "| -0.0002469367 |\n",
       "\n"
      ],
      "text/plain": [
       "     a            \n",
       "[1,] -0.0002469367"
      ]
     },
     "metadata": {},
     "output_type": "display_data"
    }
   ],
   "source": [
    "f(a)"
   ]
  },
  {
   "cell_type": "code",
   "execution_count": 11,
   "metadata": {},
   "outputs": [
    {
     "data": {
      "text/html": [
       "<table>\n",
       "<caption>A matrix: 1 × 1 of type dbl</caption>\n",
       "<thead>\n",
       "\t<tr><th scope=col>a</th></tr>\n",
       "</thead>\n",
       "<tbody>\n",
       "\t<tr><td>0</td></tr>\n",
       "</tbody>\n",
       "</table>\n"
      ],
      "text/latex": [
       "A matrix: 1 × 1 of type dbl\n",
       "\\begin{tabular}{l}\n",
       " a\\\\\n",
       "\\hline\n",
       "\t 0\\\\\n",
       "\\end{tabular}\n"
      ],
      "text/markdown": [
       "\n",
       "A matrix: 1 × 1 of type dbl\n",
       "\n",
       "| a |\n",
       "|---|\n",
       "| 0 |\n",
       "\n"
      ],
      "text/plain": [
       "     a\n",
       "[1,] 0"
      ]
     },
     "metadata": {},
     "output_type": "display_data"
    }
   ],
   "source": [
    "round(f(a),2)"
   ]
  },
  {
   "cell_type": "code",
   "execution_count": 12,
   "metadata": {},
   "outputs": [
    {
     "data": {
      "image/png": "[encoded data removed]",
      "text/plain": [
       "plot without title"
      ]
     },
     "metadata": {
      "image/png": {
       "height": 420,
       "width": 420
      },
      "text/plain": {
       "height": 420,
       "width": 420
      }
     },
     "output_type": "display_data"
    }
   ],
   "source": [
    "plot(resultado)"
   ]
  }
 ],
 "metadata": {
  "kernelspec": {
   "display_name": "R 3.3",
   "language": "R",
   "name": "ir33"
  },
  "language_info": {
   "codemirror_mode": "r",
   "file_extension": ".r",
   "mimetype": "text/x-r-source",
   "name": "R",
   "pygments_lexer": "r",
   "version": "3.6.1"
  }
 },
 "nbformat": 4,
 "nbformat_minor": 4
}
