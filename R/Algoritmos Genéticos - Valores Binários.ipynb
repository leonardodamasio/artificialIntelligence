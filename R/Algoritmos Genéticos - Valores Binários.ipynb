{
 "cells": [
  {
   "cell_type": "markdown",
   "metadata": {},
   "source": [
    "### Valores Binários"
   ]
  },
  {
   "cell_type": "markdown",
   "metadata": {},
   "source": [
    "Encontrar a melhor combinação de itens, tal que o peso máximo é 15kg"
   ]
  },
  {
   "cell_type": "code",
   "execution_count": 1,
   "metadata": {},
   "outputs": [
    {
     "data": {
      "text/html": [
       "<table>\n",
       "<caption>A data.frame: 7 × 3</caption>\n",
       "<thead>\n",
       "\t<tr><th scope=col>item</th><th scope=col>pontos</th><th scope=col>peso</th></tr>\n",
       "\t<tr><th scope=col>&lt;fct&gt;</th><th scope=col>&lt;dbl&gt;</th><th scope=col>&lt;dbl&gt;</th></tr>\n",
       "</thead>\n",
       "<tbody>\n",
       "\t<tr><td>Canivete      </td><td>10</td><td> 1</td></tr>\n",
       "\t<tr><td>Feijão        </td><td>20</td><td> 5</td></tr>\n",
       "\t<tr><td>Batatas       </td><td>15</td><td>10</td></tr>\n",
       "\t<tr><td>Lanterna      </td><td> 2</td><td> 1</td></tr>\n",
       "\t<tr><td>Saco de dormir</td><td>30</td><td> 7</td></tr>\n",
       "\t<tr><td>Corda         </td><td>10</td><td> 5</td></tr>\n",
       "\t<tr><td>Bússola       </td><td>30</td><td> 1</td></tr>\n",
       "</tbody>\n",
       "</table>\n"
      ],
      "text/latex": [
       "A data.frame: 7 × 3\n",
       "\\begin{tabular}{lll}\n",
       " item & pontos & peso\\\\\n",
       " <fct> & <dbl> & <dbl>\\\\\n",
       "\\hline\n",
       "\t Canivete       & 10 &  1\\\\\n",
       "\t Feijão         & 20 &  5\\\\\n",
       "\t Batatas        & 15 & 10\\\\\n",
       "\t Lanterna       &  2 &  1\\\\\n",
       "\t Saco de dormir & 30 &  7\\\\\n",
       "\t Corda          & 10 &  5\\\\\n",
       "\t Bússola        & 30 &  1\\\\\n",
       "\\end{tabular}\n"
      ],
      "text/markdown": [
       "\n",
       "A data.frame: 7 × 3\n",
       "\n",
       "| item &lt;fct&gt; | pontos &lt;dbl&gt; | peso &lt;dbl&gt; |\n",
       "|---|---|---|\n",
       "| Canivete       | 10 |  1 |\n",
       "| Feijão         | 20 |  5 |\n",
       "| Batatas        | 15 | 10 |\n",
       "| Lanterna       |  2 |  1 |\n",
       "| Saco de dormir | 30 |  7 |\n",
       "| Corda          | 10 |  5 |\n",
       "| Bússola        | 30 |  1 |\n",
       "\n"
      ],
      "text/plain": [
       "  item           pontos peso\n",
       "1 Canivete       10      1  \n",
       "2 Feijão         20      5  \n",
       "3 Batatas        15     10  \n",
       "4 Lanterna        2      1  \n",
       "5 Saco de dormir 30      7  \n",
       "6 Corda          10      5  \n",
       "7 Bússola        30      1  "
      ]
     },
     "metadata": {},
     "output_type": "display_data"
    }
   ],
   "source": [
    "mochila = data.frame(item = c(\"Canivete\", \"Feijão\", \"Batatas\", \"Lanterna\", \"Saco de dormir\", \"Corda\", \"Bússola\"), pontos = c(10,20,15,2,30,10,30), peso = c(1,5,10,1,7,5,1))\n",
    "mochila"
   ]
  },
  {
   "cell_type": "code",
   "execution_count": 2,
   "metadata": {},
   "outputs": [],
   "source": [
    "f = function(x)\n",
    "{\n",
    "    pontos = 0\n",
    "    peso = 0\n",
    "    \n",
    "    for (i in 1:7)\n",
    "    {\n",
    "        #1001101\n",
    "        if (x[i] != 0)\n",
    "        {\n",
    "            pontos = pontos + mochila[i,2]\n",
    "            peso = peso + mochila[i,3]     \n",
    "        }\n",
    "    }\n",
    "    \n",
    "    if (peso > 15)\n",
    "        pontos = 0\n",
    "    \n",
    "    return (pontos)\n",
    "}"
   ]
  },
  {
   "cell_type": "code",
   "execution_count": 3,
   "metadata": {},
   "outputs": [
    {
     "data": {
      "text/html": [
       "<pre class=language-r><code>function (x) \n",
       "{\n",
       "<span style=white-space:pre-wrap>    pontos = 0</span>\n",
       "<span style=white-space:pre-wrap>    peso = 0</span>\n",
       "<span style=white-space:pre-wrap>    for (i in 1:7) {</span>\n",
       "<span style=white-space:pre-wrap>        if (x[i] != 0) {</span>\n",
       "<span style=white-space:pre-wrap>            pontos = pontos + mochila[i, 2]</span>\n",
       "<span style=white-space:pre-wrap>            peso = peso + mochila[i, 3]</span>\n",
       "<span style=white-space:pre-wrap>        }</span>\n",
       "<span style=white-space:pre-wrap>    }</span>\n",
       "<span style=white-space:pre-wrap>    if (peso &gt; 15) </span>\n",
       "<span style=white-space:pre-wrap>        pontos = 0</span>\n",
       "<span style=white-space:pre-wrap>    return(pontos)</span>\n",
       "}</code></pre>"
      ],
      "text/latex": [
       "\\begin{minted}{r}\n",
       "function (x) \n",
       "\\{\n",
       "    pontos = 0\n",
       "    peso = 0\n",
       "    for (i in 1:7) \\{\n",
       "        if (x{[}i{]} != 0) \\{\n",
       "            pontos = pontos + mochila{[}i, 2{]}\n",
       "            peso = peso + mochila{[}i, 3{]}\n",
       "        \\}\n",
       "    \\}\n",
       "    if (peso > 15) \n",
       "        pontos = 0\n",
       "    return(pontos)\n",
       "\\}\n",
       "\\end{minted}"
      ],
      "text/markdown": [
       "```r\n",
       "function (x) \n",
       "{\n",
       "    pontos = 0\n",
       "    peso = 0\n",
       "    for (i in 1:7) {\n",
       "        if (x[i] != 0) {\n",
       "            pontos = pontos + mochila[i, 2]\n",
       "            peso = peso + mochila[i, 3]\n",
       "        }\n",
       "    }\n",
       "    if (peso > 15) \n",
       "        pontos = 0\n",
       "    return(pontos)\n",
       "}\n",
       "```"
      ],
      "text/plain": [
       "function(x)\n",
       "{\n",
       "    pontos = 0\n",
       "    peso = 0\n",
       "    \n",
       "    for (i in 1:7)\n",
       "    {\n",
       "        #1001101\n",
       "        if (x[i] != 0)\n",
       "        {\n",
       "            pontos = pontos + mochila[i,2]\n",
       "            peso = peso + mochila[i,3]     \n",
       "        }\n",
       "    }\n",
       "    \n",
       "    if (peso > 15)\n",
       "        pontos = 0\n",
       "    \n",
       "    return (pontos)\n",
       "}"
      ]
     },
     "metadata": {},
     "output_type": "display_data"
    }
   ],
   "source": [
    "f"
   ]
  },
  {
   "cell_type": "code",
   "execution_count": 4,
   "metadata": {},
   "outputs": [
    {
     "data": {
      "text/html": [
       "72"
      ],
      "text/latex": [
       "72"
      ],
      "text/markdown": [
       "72"
      ],
      "text/plain": [
       "[1] 72"
      ]
     },
     "metadata": {},
     "output_type": "display_data"
    },
    {
     "data": {
      "text/html": [
       "0"
      ],
      "text/latex": [
       "0"
      ],
      "text/markdown": [
       "0"
      ],
      "text/plain": [
       "[1] 0"
      ]
     },
     "metadata": {},
     "output_type": "display_data"
    },
    {
     "data": {
      "text/html": [
       "62"
      ],
      "text/latex": [
       "62"
      ],
      "text/markdown": [
       "62"
      ],
      "text/plain": [
       "[1] 62"
      ]
     },
     "metadata": {},
     "output_type": "display_data"
    },
    {
     "data": {
      "text/html": [
       "0"
      ],
      "text/latex": [
       "0"
      ],
      "text/markdown": [
       "0"
      ],
      "text/plain": [
       "[1] 0"
      ]
     },
     "metadata": {},
     "output_type": "display_data"
    },
    {
     "data": {
      "text/html": [
       "32"
      ],
      "text/latex": [
       "32"
      ],
      "text/markdown": [
       "32"
      ],
      "text/plain": [
       "[1] 32"
      ]
     },
     "metadata": {},
     "output_type": "display_data"
    }
   ],
   "source": [
    "f(c(1,0,0,1,1,0,1))\n",
    "f(c(1,0,1,1,1,0,1))\n",
    "f(c(0,0,0,1,1,0,1))\n",
    "f(c(1,1,1,1,1,1,1))\n",
    "f(c(0,1,0,1,0,1,0))"
   ]
  },
  {
   "cell_type": "markdown",
   "metadata": {},
   "source": [
    "Como resolver isso?\n",
    "Algoritmo Genético!"
   ]
  },
  {
   "cell_type": "code",
   "execution_count": 5,
   "metadata": {},
   "outputs": [
    {
     "name": "stderr",
     "output_type": "stream",
     "text": [
      "Loading required package: foreach\n",
      "\n",
      "Loading required package: iterators\n",
      "\n",
      "Package 'GA' version 3.2\n",
      "Type 'citation(\"GA\")' for citing this R package in publications.\n",
      "\n",
      "\n",
      "Attaching package: 'GA'\n",
      "\n",
      "\n",
      "The following object is masked from 'package:utils':\n",
      "\n",
      "    de\n",
      "\n",
      "\n"
     ]
    }
   ],
   "source": [
    "# install.packages(\"GA\")\n",
    "library(GA)"
   ]
  },
  {
   "cell_type": "code",
   "execution_count": 6,
   "metadata": {},
   "outputs": [
    {
     "name": "stdout",
     "output_type": "stream",
     "text": [
      "GA | iter = 1 | Mean = 27.8 | Best = 70.0\n",
      "GA | iter = 2 | Mean = 36.8 | Best = 70.0\n",
      "GA | iter = 3 | Mean = 48 | Best = 70\n",
      "GA | iter = 4 | Mean = 44.2 | Best = 70.0\n",
      "GA | iter = 5 | Mean = 49.2 | Best = 70.0\n",
      "GA | iter = 6 | Mean = 47.8 | Best = 70.0\n",
      "GA | iter = 7 | Mean = 48.4 | Best = 70.0\n",
      "GA | iter = 8 | Mean = 54.6 | Best = 70.0\n",
      "GA | iter = 9 | Mean = 51.4 | Best = 70.0\n",
      "GA | iter = 10 | Mean = 60.8 | Best = 92.0\n",
      "GA | iter = 11 | Mean = 50.8 | Best = 92.0\n",
      "GA | iter = 12 | Mean = 55.8 | Best = 92.0\n",
      "GA | iter = 13 | Mean = 73.2 | Best = 92.0\n",
      "GA | iter = 14 | Mean = 71.2 | Best = 92.0\n",
      "GA | iter = 15 | Mean = 72 | Best = 92\n",
      "GA | iter = 16 | Mean = 65 | Best = 92\n",
      "GA | iter = 17 | Mean = 69 | Best = 92\n",
      "GA | iter = 18 | Mean = 54.8 | Best = 92.0\n",
      "GA | iter = 19 | Mean = 51 | Best = 92\n",
      "GA | iter = 20 | Mean = 24.6 | Best = 92.0\n",
      "GA | iter = 21 | Mean = 34.6 | Best = 92.0\n",
      "GA | iter = 22 | Mean = 27.4 | Best = 92.0\n",
      "GA | iter = 23 | Mean = 36.6 | Best = 92.0\n",
      "GA | iter = 24 | Mean = 27.6 | Best = 92.0\n",
      "GA | iter = 25 | Mean = 46 | Best = 92\n",
      "GA | iter = 26 | Mean = 64.4 | Best = 92.0\n",
      "GA | iter = 27 | Mean = 71.6 | Best = 92.0\n",
      "GA | iter = 28 | Mean = 80.8 | Best = 92.0\n",
      "GA | iter = 29 | Mean = 87 | Best = 92\n",
      "GA | iter = 30 | Mean = 67.6 | Best = 92.0\n"
     ]
    }
   ],
   "source": [
    "resultado = ga(\"binary\", # Valores Binários ex.: c(1,0,0,1,1,0,1)\n",
    "               fitness = f, # Função de Ajuste\n",
    "               nBits = 7, # Número de bits\n",
    "               popSize = 10, # Número total de cromossomos\n",
    "               maxiter = 30, # Máximo de gerações\n",
    "               monitor = T, # Acompanhar a evolução\n",
    "               names = c(\"Canivete\", \"Feijão\", \"Batatas\", \"Lanterna\", \"Saco de dormir\", \"Corda\", \"Bússola\") # Nome dos itens\n",
    "               )"
   ]
  },
  {
   "cell_type": "code",
   "execution_count": 7,
   "metadata": {},
   "outputs": [
    {
     "data": {
      "text/plain": [
       "An object of class \"ga\"\n",
       "\n",
       "Call:\n",
       "ga(type = \"binary\", fitness = f, nBits = 7, popSize = 10, maxiter = 30,     names = c(\"Canivete\", \"Feijão\", \"Batatas\", \"Lanterna\", \"Saco de dormir\",         \"Corda\", \"Bússola\"), monitor = T)\n",
       "\n",
       "Available slots:\n",
       " [1] \"call\"         \"type\"         \"lower\"        \"upper\"        \"nBits\"       \n",
       " [6] \"names\"        \"popSize\"      \"iter\"         \"run\"          \"maxiter\"     \n",
       "[11] \"suggestions\"  \"population\"   \"elitism\"      \"pcrossover\"   \"pmutation\"   \n",
       "[16] \"optim\"        \"fitness\"      \"summary\"      \"bestSol\"      \"fitnessValue\"\n",
       "[21] \"solution\"    "
      ]
     },
     "metadata": {},
     "output_type": "display_data"
    }
   ],
   "source": [
    "resultado"
   ]
  },
  {
   "cell_type": "code",
   "execution_count": 8,
   "metadata": {},
   "outputs": [
    {
     "data": {
      "text/plain": [
       "-- \u001b[1mGenetic Algorithm\u001b[22m ------------------- \n",
       "\n",
       "GA settings: \n",
       "Type                  =  binary \n",
       "Population size       =  10 \n",
       "Number of generations =  30 \n",
       "Elitism               =  1 \n",
       "Crossover probability =  0.8 \n",
       "Mutation probability  =  0.1 \n",
       "\n",
       "GA results: \n",
       "Iterations             = 30 \n",
       "Fitness function value = 92 \n",
       "Solution = \n",
       "     Canivete Feijão Batatas Lanterna Saco de dormir Corda Bússola\n",
       "[1,]        1      1       0        1              1     0       1"
      ]
     },
     "metadata": {},
     "output_type": "display_data"
    }
   ],
   "source": [
    "summary(resultado)"
   ]
  },
  {
   "cell_type": "code",
   "execution_count": 9,
   "metadata": {},
   "outputs": [
    {
     "data": {
      "text/html": [
       "<table>\n",
       "<caption>A matrix: 1 × 7 of type dbl</caption>\n",
       "<thead>\n",
       "\t<tr><th scope=col>Canivete</th><th scope=col>Feijão</th><th scope=col>Batatas</th><th scope=col>Lanterna</th><th scope=col>Saco de dormir</th><th scope=col>Corda</th><th scope=col>Bússola</th></tr>\n",
       "</thead>\n",
       "<tbody>\n",
       "\t<tr><td>1</td><td>1</td><td>0</td><td>1</td><td>1</td><td>0</td><td>1</td></tr>\n",
       "</tbody>\n",
       "</table>\n"
      ],
      "text/latex": [
       "A matrix: 1 × 7 of type dbl\n",
       "\\begin{tabular}{lllllll}\n",
       " Canivete & Feijão & Batatas & Lanterna & Saco de dormir & Corda & Bússola\\\\\n",
       "\\hline\n",
       "\t 1 & 1 & 0 & 1 & 1 & 0 & 1\\\\\n",
       "\\end{tabular}\n"
      ],
      "text/markdown": [
       "\n",
       "A matrix: 1 × 7 of type dbl\n",
       "\n",
       "| Canivete | Feijão | Batatas | Lanterna | Saco de dormir | Corda | Bússola |\n",
       "|---|---|---|---|---|---|---|\n",
       "| 1 | 1 | 0 | 1 | 1 | 0 | 1 |\n",
       "\n"
      ],
      "text/plain": [
       "     Canivete Feijão Batatas Lanterna Saco de dormir Corda Bússola\n",
       "[1,] 1        1      0       1        1              0     1      "
      ]
     },
     "metadata": {},
     "output_type": "display_data"
    }
   ],
   "source": [
    "a = summary(resultado)$solution\n",
    "a"
   ]
  },
  {
   "cell_type": "code",
   "execution_count": 10,
   "metadata": {},
   "outputs": [
    {
     "data": {
      "text/html": [
       "92"
      ],
      "text/latex": [
       "92"
      ],
      "text/markdown": [
       "92"
      ],
      "text/plain": [
       "[1] 92"
      ]
     },
     "metadata": {},
     "output_type": "display_data"
    }
   ],
   "source": [
    "f(a)"
   ]
  },
  {
   "cell_type": "code",
   "execution_count": 11,
   "metadata": {},
   "outputs": [
    {
     "data": {
      "image/png": "[encoded data removed]",
      "text/plain": [
       "plot without title"
      ]
     },
     "metadata": {
      "image/png": {
       "height": 420,
       "width": 420
      },
      "text/plain": {
       "height": 420,
       "width": 420
      }
     },
     "output_type": "display_data"
    }
   ],
   "source": [
    "plot(resultado)"
   ]
  }
 ],
 "metadata": {
  "kernelspec": {
   "display_name": "R 3.3",
   "language": "R",
   "name": "ir33"
  },
  "language_info": {
   "codemirror_mode": "r",
   "file_extension": ".r",
   "mimetype": "text/x-r-source",
   "name": "R",
   "pygments_lexer": "r",
   "version": "3.6.1"
  }
 },
 "nbformat": 4,
 "nbformat_minor": 4
}
